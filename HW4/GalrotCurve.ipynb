{
  "nbformat": 4,
  "nbformat_minor": 0,
  "metadata": {
    "colab": {
      "name": "GalrotCurve.ipynb",
      "provenance": [],
      "include_colab_link": true
    },
    "kernelspec": {
      "name": "python3",
      "display_name": "Python 3"
    }
  },
  "cells": [
    {
      "cell_type": "markdown",
      "metadata": {
        "id": "view-in-github",
        "colab_type": "text"
      },
      "source": [
        "<a href=\"https://colab.research.google.com/github/exalteded/DSPS_ejones/blob/master/HW4/GalrotCurve.ipynb\" target=\"_parent\"><img src=\"https://colab.research.google.com/assets/colab-badge.svg\" alt=\"Open In Colab\"/></a>"
      ]
    },
    {
      "cell_type": "code",
      "metadata": {
        "id": "D3TStlG3jRC2",
        "colab_type": "code",
        "colab": {
          "base_uri": "https://localhost:8080/",
          "height": 34
        },
        "outputId": "7186daa3-1613-4aac-e521-7932db0a421f"
      },
      "source": [
        "import pandas as pd\n",
        "import numpy as np\n",
        "import pylab as pl\n",
        "%pylab inline\n",
        "\n",
        "\n",
        "#package I will use for constants and units conversion \n",
        "import astropy\n"
      ],
      "execution_count": 1,
      "outputs": [
        {
          "output_type": "stream",
          "text": [
            "Populating the interactive namespace from numpy and matplotlib\n"
          ],
          "name": "stdout"
        }
      ]
    },
    {
      "cell_type": "code",
      "metadata": {
        "id": "82B_BYpOlSe2",
        "colab_type": "code",
        "colab": {}
      },
      "source": [
        ""
      ],
      "execution_count": 0,
      "outputs": []
    },
    {
      "cell_type": "markdown",
      "metadata": {
        "id": "bapclcGinquv",
        "colab_type": "text"
      },
      "source": [
        "\n",
        "**SOLVE FOR V^2 Proportional to 1/r**\n",
        "\n",
        "F= Ma\n",
        "a = dv/dt or v^2/r (rotational) from physics classroom\n",
        "F = GmM/r^2\n",
        "\n",
        "Replace v^2/r for a \n",
        "\n",
        "M(v^2/r) = GmM/r^2 (rs cancel Ms cancel)\n",
        "\n",
        "v^2 = Gm/r where Gm is a constant\n",
        "\n",
        "so v^2 is proportional to 1/r"
      ]
    },
    {
      "cell_type": "code",
      "metadata": {
        "id": "SBOjqYK0nrR9",
        "colab_type": "code",
        "colab": {}
      },
      "source": [
        ""
      ],
      "execution_count": 0,
      "outputs": []
    }
  ]
}