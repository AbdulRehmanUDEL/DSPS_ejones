{
  "nbformat": 4,
  "nbformat_minor": 0,
  "metadata": {
    "colab": {
      "name": "HW2_2.ipynb",
      "version": "0.3.2",
      "provenance": [],
      "include_colab_link": true
    },
    "kernelspec": {
      "name": "python3",
      "display_name": "Python 3"
    }
  },
  "cells": [
    {
      "cell_type": "markdown",
      "metadata": {
        "id": "view-in-github",
        "colab_type": "text"
      },
      "source": [
        "<a href=\"https://colab.research.google.com/github/exalteded/DSPS_ejones/blob/master/HW2_2.ipynb\" target=\"_parent\"><img src=\"https://colab.research.google.com/assets/colab-badge.svg\" alt=\"Open In Colab\"/></a>"
      ]
    },
    {
      "cell_type": "markdown",
      "metadata": {
        "id": "pUNASJhhu374",
        "colab_type": "text"
      },
      "source": [
        "Written By Elliott Jones eljones@udel.edu UDEL DSPS(Data science for Physicists 2019)"
      ]
    },
    {
      "cell_type": "code",
      "metadata": {
        "id": "_4L4chb6rDPd",
        "colab_type": "code",
        "colab": {
          "base_uri": "https://localhost:8080/",
          "height": 34
        },
        "outputId": "4dc9f99c-3908-4968-fd93-265782e163fc"
      },
      "source": [
        "from __future__ import print_function\n",
        "__author__= 'elj'\n",
        "\n",
        "import pylab as pl\n",
        "# this package sets up pretty plots\n",
        "from scipy.optimize import curve_fit, minimize\n",
        "    \n",
        "%pylab inline\n",
        "import seaborn\n",
        "seaborn.set_style(\"darkgrid\")"
      ],
      "execution_count": 2,
      "outputs": [
        {
          "output_type": "stream",
          "text": [
            "Populating the interactive namespace from numpy and matplotlib\n"
          ],
          "name": "stdout"
        }
      ]
    },
    {
      "cell_type": "code",
      "metadata": {
        "id": "D9RwkQLEtCsD",
        "colab_type": "code",
        "colab": {}
      },
      "source": [
        "#distributions = ['pois', 'gaus', 'chisq', 'cauchy', 'lnorm', 'binomial']\n",
        "#set distribution notation\n",
        "distributions = ['chisq']"
      ],
      "execution_count": 0,
      "outputs": []
    },
    {
      "cell_type": "code",
      "metadata": {
        "id": "UlqJxedYvS-P",
        "colab_type": "code",
        "colab": {}
      },
      "source": [
        "#set mean\n",
        "mymean = 100"
      ],
      "execution_count": 0,
      "outputs": []
    },
    {
      "cell_type": "code",
      "metadata": {
        "id": "TX3FBjXavZaT",
        "colab_type": "code",
        "colab": {}
      },
      "source": [
        "#set degrees of freedom\n",
        "df = mymean"
      ],
      "execution_count": 0,
      "outputs": []
    },
    {
      "cell_type": "code",
      "metadata": {
        "id": "lV5TS6FJv-EW",
        "colab_type": "code",
        "colab": {
          "base_uri": "https://localhost:8080/",
          "height": 283
        },
        "outputId": "22a2fcc7-d200-49c7-a2c1-9e82a1650c35"
      },
      "source": [
        "#example distribution\n",
        "import numpy as np\n",
        "np.random.seed(456)\n",
        "md = {}\n",
        "# md is an empty disctionary; \n",
        "# if you are not familiar with python dictionaries see https://www.pythonforbeginners.com/dictionary/how-to-use-dictionaries-in-python\n",
        "md['chisq'] = np.random.chisquare(mymean, size=100)\n",
        "# md now is a dictionary with one object: an array by the key 'chisq'\n",
        "pl.hist(md['chisq'], bins = 30)\n",
        "pl.ylabel('N')\n",
        "pl.xlabel('x');"
      ],
      "execution_count": 7,
      "outputs": [
        {
          "output_type": "display_data",
          "data": {
            "image/png": "[encoded data removed]",
            "text/plain": [
              "<Figure size 432x288 with 1 Axes>"
            ]
          },
          "metadata": {
            "tags": []
          }
        }
      ]
    },
    {
      "cell_type": "code",
      "metadata": {
        "id": "GoIXN3s6wMkL",
        "colab_type": "code",
        "colab": {
          "base_uri": "https://localhost:8080/",
          "height": 34
        },
        "outputId": "dd4e5990-c9a3-44a9-bc81-ed6451e650cc"
      },
      "source": [
        "print (\"Chisq mean: %.2f, standard deviation: %.2f\"%(md['chisq'].mean(), md['chisq'].std()))"
      ],
      "execution_count": 8,
      "outputs": [
        {
          "output_type": "stream",
          "text": [
            "Chisq mean: 100.09, standard deviation: 13.24\n"
          ],
          "name": "stdout"
        }
      ]
    },
    {
      "cell_type": "code",
      "metadata": {
        "id": "jqFSwWErwXSl",
        "colab_type": "code",
        "colab": {
          "base_uri": "https://localhost:8080/",
          "height": 34
        },
        "outputId": "f036e5f2-b710-40b2-c9c8-4efb577b960d"
      },
      "source": [
        "#example creates random integers that will be the size of chisquare distributions\n",
        "mysize = (2000 / (np.array(range(1, 100)))).astype(int)\n",
        "# mysize = 1000 / (np.array(range(1, 100) + [10]))\n",
        "# mysize = (np.random.rand(100) * 1000).astype(int)\n",
        "print (\"shape of the 'size' list that contains the size of each distribution\", mysize.shape)"
      ],
      "execution_count": 9,
      "outputs": [
        {
          "output_type": "stream",
          "text": [
            "shape of the 'size' list that contains the size of each distribution (99,)\n"
          ],
          "name": "stdout"
        }
      ]
    },
    {
      "cell_type": "code",
      "metadata": {
        "id": "pQaGRZfSwyko",
        "colab_type": "code",
        "colab": {
          "base_uri": "https://localhost:8080/",
          "height": 300
        },
        "outputId": "611188c6-e70c-4cbc-d8eb-b1fa8d612a73"
      },
      "source": [
        "#example plot shows the array of my size\n",
        "pl.plot(mysize, '.')\n",
        "pl.xlabel(\"index\")\n",
        "pl.ylabel(\"size of the array\")"
      ],
      "execution_count": 11,
      "outputs": [
        {
          "output_type": "execute_result",
          "data": {
            "text/plain": [
              "Text(0, 0.5, 'size of the array')"
            ]
          },
          "metadata": {
            "tags": []
          },
          "execution_count": 11
        },
        {
          "output_type": "display_data",
          "data": {
            "image/png": "[encoded data removed]",
            "text/plain": [
              "<Figure size 432x288 with 1 Axes>"
            ]
          },
          "metadata": {
            "tags": []
          }
        }
      ]
    },
    {
      "cell_type": "code",
      "metadata": {
        "id": "WFSWFZ_HzPFd",
        "colab_type": "code",
        "colab": {
          "base_uri": "https://localhost:8080/",
          "height": 433
        },
        "outputId": "7a272763-8222-46df-f91c-8020710becf9"
      },
      "source": [
        "#example overwrite\n",
        "# I am gonna overwrite the disctionary entry created into a nested dictionary \n",
        "# the outside dictionary hosts the distributions as dictionary, \n",
        "# and each distribution dictionary contains the 100 distribution (arrays of diferent sizes)\n",
        "\n",
        "md['chisq'] = {} \n",
        "\n",
        "#and do it in a for loop. not pythonic, but easily readable\n",
        "\n",
        "for n in mysize:\n",
        "    md['chisq'][n] = np.random.chisquare(df, size = n)\n",
        "    \n",
        "# save the means for plotting later    \n",
        "\n",
        "md['chisq']['means'] = {}\n",
        "axchisq_mu_n = pl.figure(figsize=(10,6)).add_subplot(111)\n",
        "\n",
        "for nn in md['chisq']:\n",
        "    if not type(nn) == str:\n",
        "        md['chisq']['means'][nn] = md['chisq'][nn].mean()\n",
        "        #and plot it\n",
        "        axchisq_mu_n.plot(nn, md['chisq']['means'][nn], 'o')\n",
        "        axchisq_mu_n.set_xlabel('sample size', fontsize=18)\n",
        "        axchisq_mu_n.set_ylabel('sample mean', fontsize=18)\n",
        "        axchisq_mu_n.set_title('Chi squared', fontsize=18)\n",
        "        axchisq_mu_n.plot([min(mysize), max(mysize)], [df, df], 'k')\n",
        "axchisq_mu_n.text(axchisq_mu_n.get_xlim()[1] * .6, 100, \"expected mean\", \n",
        "                  va=\"bottom\", fontsize=20)"
      ],
      "execution_count": 12,
      "outputs": [
        {
          "output_type": "execute_result",
          "data": {
            "text/plain": [
              "Text(1259.3999999999999, 100, 'expected mean')"
            ]
          },
          "metadata": {
            "tags": []
          },
          "execution_count": 12
        },
        {
          "output_type": "display_data",
          "data": {
            "image/png": "[encoded data removed]",
            "text/plain": [
              "<Figure size 720x432 with 1 Axes>"
            ]
          },
          "metadata": {
            "tags": []
          }
        }
      ]
    },
    {
      "cell_type": "code",
      "metadata": {
        "id": "ww0O646Hzg8d",
        "colab_type": "code",
        "colab": {}
      },
      "source": [
        ""
      ],
      "execution_count": 0,
      "outputs": []
    },
    {
      "cell_type": "markdown",
      "metadata": {
        "id": "jziIQ77t1egb",
        "colab_type": "text"
      },
      "source": [
        "i see here that as the sample size approaches the sample mean asymptotes from both sides towards the expected mean as should be the case with the law of large numbers."
      ]
    },
    {
      "cell_type": "code",
      "metadata": {
        "id": "sa917sWM2Gx2",
        "colab_type": "code",
        "colab": {}
      },
      "source": [
        ""
      ],
      "execution_count": 0,
      "outputs": []
    }
  ]
}