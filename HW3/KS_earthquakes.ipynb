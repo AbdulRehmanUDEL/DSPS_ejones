{
  "nbformat": 4,
  "nbformat_minor": 0,
  "metadata": {
    "colab": {
      "name": "KS_earthquakes.ipynb",
      "provenance": [],
      "include_colab_link": true
    },
    "kernelspec": {
      "name": "python3",
      "display_name": "Python 3"
    }
  },
  "cells": [
    {
      "cell_type": "markdown",
      "metadata": {
        "id": "view-in-github",
        "colab_type": "text"
      },
      "source": [
        "<a href=\"https://colab.research.google.com/github/exalteded/DSPS_ejones/blob/master/HW3/KS_earthquakes.ipynb\" target=\"_parent\"><img src=\"https://colab.research.google.com/assets/colab-badge.svg\" alt=\"Open In Colab\"/></a>"
      ]
    },
    {
      "cell_type": "code",
      "metadata": {
        "id": "qxVIX9L-eEfh",
        "colab_type": "code",
        "colab": {
          "base_uri": "https://localhost:8080/",
          "height": 34
        },
        "outputId": "557e38ed-e7ec-4018-d9f8-a5b81b92a75f"
      },
      "source": [
        "from __future__ import print_function, division\n",
        "import pandas as pd\n",
        "import pylab as pl\n",
        "import scipy as sp\n",
        "from scipy import stats\n",
        "%pylab inline\n",
        "pl.style.use(\"https://raw.githubusercontent.com/fedhere/DSPS/master/fbb.mplstyle\")"
      ],
      "execution_count": 1,
      "outputs": [
        {
          "output_type": "stream",
          "text": [
            "Populating the interactive namespace from numpy and matplotlib\n"
          ],
          "name": "stdout"
        }
      ]
    },
    {
      "cell_type": "code",
      "metadata": {
        "id": "CyvEWEr6eQj7",
        "colab_type": "code",
        "colab": {}
      },
      "source": [
        ""
      ],
      "execution_count": 0,
      "outputs": []
    },
    {
      "cell_type": "markdown",
      "metadata": {
        "id": "qPVaVUeLfdIF",
        "colab_type": "text"
      },
      "source": [
        "1 What is the test's Null Hypothsis that the K-S test tests?\n",
        "\n",
        "## that two different empyrical data distrbution sets come from the same distribution in this case labeled k and l KS > dkl\n"
      ]
    },
    {
      "cell_type": "markdown",
      "metadata": {
        "id": "07NYMLJHkPTC",
        "colab_type": "text"
      },
      "source": [
        "the pivotal quanitity is the distribution given by the probability density. Which serves to test the scaling function. (https://imgur.com/a/uJlQU7G), listed here formula (6) in corral 2018\n"
      ]
    },
    {
      "cell_type": "code",
      "metadata": {
        "id": "uJVvuGCxlFAZ",
        "colab_type": "code",
        "colab": {}
      },
      "source": [
        ""
      ],
      "execution_count": 0,
      "outputs": []
    }
  ]
}