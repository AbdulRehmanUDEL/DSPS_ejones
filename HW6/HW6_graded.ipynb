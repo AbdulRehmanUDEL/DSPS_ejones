{
 "cells": [
  {
   "cell_type": "markdown",
   "metadata": {
    "colab_type": "text",
    "id": "view-in-github"
   },
   "source": [
    "<a href=\"https://colab.research.google.com/github/exalteded/DSPS_ejones/blob/master/HW6/HW6.ipynb\" target=\"_parent\"><img src=\"https://colab.research.google.com/assets/colab-badge.svg\" alt=\"Open In Colab\"/></a>"
   ]
  },
  {
   "cell_type": "code",
   "execution_count": 37,
   "metadata": {
    "colab": {
     "base_uri": "https://localhost:8080/",
     "height": 34
    },
    "colab_type": "code",
    "id": "NKbOQFZfV66R",
    "outputId": "36214794-37e1-440e-9d89-50a4b5f8d716"
   },
   "outputs": [
    {
     "name": "stdout",
     "output_type": "stream",
     "text": [
      "Drive already mounted at /content/drive; to attempt to forcibly remount, call drive.mount(\"/content/drive\", force_remount=True).\n"
     ]
    }
   ],
   "source": [
    "from google.colab import drive\n",
    "drive.mount(\"/content/drive\")\n"
   ]
  },
  {
   "cell_type": "code",
   "execution_count": 38,
   "metadata": {
    "colab": {
     "base_uri": "https://localhost:8080/",
     "height": 34
    },
    "colab_type": "code",
    "id": "kuMnq04aSmBM",
    "outputId": "1d8cc3de-a2fc-4b8e-d67a-ca5843250fe9"
   },
   "outputs": [
    {
     "name": "stdout",
     "output_type": "stream",
     "text": [
      "Populating the interactive namespace from numpy and matplotlib\n"
     ]
    }
   ],
   "source": [
    "import numpy as np\n",
    "import scipy as sp\n",
    "import pandas as pd\n",
    "from scipy import stats\n",
    "import pylab as pl\n",
    "import math\n",
    "%pylab inline"
   ]
  },
  {
   "cell_type": "code",
   "execution_count": 39,
   "metadata": {
    "colab": {
     "base_uri": "https://localhost:8080/",
     "height": 50
    },
    "colab_type": "code",
    "id": "MMWG7eZEb5yw",
    "outputId": "2289c81a-b4c0-43c3-d027-a79c16fb0937"
   },
   "outputs": [
    {
     "name": "stdout",
     "output_type": "stream",
     "text": [
      "[Errno 2] No such file or directory: 'drive/'\n",
      "/content/drive/My Drive/dsps2019/jla_likelihood_v6/data\n"
     ]
    }
   ],
   "source": [
    "cd drive/"
   ]
  },
  {
   "cell_type": "code",
   "execution_count": 35,
   "metadata": {
    "colab": {
     "base_uri": "https://localhost:8080/",
     "height": 101
    },
    "colab_type": "code",
    "id": "nrRKinzlc9V3",
    "outputId": "c41afc01-0a11-4773-87c6-7313b73ad809"
   },
   "outputs": [
    {
     "name": "stdout",
     "output_type": "stream",
     "text": [
      "jla.dataset            JLA.paramnames         jla_v0_covmatrix.dat\n",
      "jla_lcparams.txt       jla_simple.dataset     jla_vab_covmatrix.dat\n",
      "jla_mub_covmatrix.dat  jla_simple.dataset~    jla_va_covmatrix.dat\n",
      "jla_mub.txt            jla_v0a_covmatrix.dat  jla_vb_covmatrix.dat\n",
      "jla_mub.txt~           jla_v0b_covmatrix.dat\n"
     ]
    }
   ],
   "source": [
    "ls"
   ]
  },
  {
   "cell_type": "code",
   "execution_count": 36,
   "metadata": {
    "colab": {
     "base_uri": "https://localhost:8080/",
     "height": 50
    },
    "colab_type": "code",
    "id": "pXqPqk8Ac992",
    "outputId": "56477fc1-c1e6-4d44-d467-e36b310de278"
   },
   "outputs": [
    {
     "name": "stdout",
     "output_type": "stream",
     "text": [
      "[Errno 2] No such file or directory: 'My Drive/'\n",
      "/content/drive/My Drive/dsps2019/jla_likelihood_v6/data\n"
     ]
    }
   ],
   "source": [
    "cd \"My Drive\"/"
   ]
  },
  {
   "cell_type": "code",
   "execution_count": 13,
   "metadata": {
    "colab": {
     "base_uri": "https://localhost:8080/",
     "height": 1000
    },
    "colab_type": "code",
    "id": "MXsKIFIWdDYx",
    "outputId": "cc1533b9-4dc5-4939-a3b8-3b20fccc3447"
   },
   "outputs": [
    {
     "name": "stdout",
     "output_type": "stream",
     "text": [
      "'02 16 19 actions we need to respond to .gdoc'\n",
      "'10th 11th and 12th level magic. .docx'\n",
      "'10th 11th and 12th level magic. .gdoc'\n",
      "'7002_Rent updated elliott.xlsx'\n",
      "'Abrograil thrune II.gdoc'\n",
      "'Activity time materials list curriculum.gdoc'\n",
      "'Adventurer class.gdoc'\n",
      "'Aegis of virtue.gdoc'\n",
      "'Aiden Lu report 2019.gdoc'\n",
      "' Alberron report 2019.gdoc'\n",
      "'Alex Choi Report 2019.gdoc'\n",
      "'Apartment Rules 2018.gdoc'\n",
      "'averret link.gdoc'\n",
      "\"billy's game 2 electric bu.gdoc\"\n",
      "'boons owed.gdoc'\n",
      "'Brendan Xue Report 2019.gdoc'\n",
      "'Caladblog and Nirvana.gdoc'\n",
      "'Callie Mihal boon documents.gsheet'\n",
      "'Callie mihal campaign notes and sheet .gdoc'\n",
      "'Callie mihal notes and sheet.gdoc'\n",
      "'Celestia character sheet.gsheet'\n",
      " Charms.gdoc\n",
      "'CISC 220.gdoc'\n",
      "\u001b[0m\u001b[01;34m'Colab Notebooks'\u001b[0m/\n",
      "'Colleen vorlesh.gdoc'\n",
      "'Copy of Blank Character Sheet.gform'\n",
      "'Copy of Blank Character Sheet.gsheet'\n",
      "'Copy of D&D5e Character Creator.gsheet'\n",
      "'Copy of Elliott Character Sheet(harold'\\''s game).gsheet'\n",
      "'Copy of History 102 Notes Elliott.gdoc'\n",
      "'Copy of New plans.gdoc'\n",
      "'Copy of Ravnica conflict resolution system.gdoc'\n",
      "'Copy of Ravnica influence scale 1-5.gdoc'\n",
      "'Copy of Staff Training Schedule 2019.gdoc'\n",
      " Course_Worksheet.xlsx\n",
      "'Cyrus black(Elliott'\\''s sheet dave'\\''s game).gdoc'\n",
      "'Dangerous world wound inhabitants.gdoc'\n",
      " \u001b[01;34mdata\u001b[0m/\n",
      "'December Game.gdoc'\n",
      "'Diana pirate campaign.gdoc'\n",
      "'Dilan Johnson report.gdoc'\n",
      " \u001b[01;34mdsps2019\u001b[0m/\n",
      "'edited rituals.gdoc'\n",
      "'Edith studios.gdoc'\n",
      "'Elliott Copy of Staff Training Schedule 2019.gdoc'\n",
      "'Elliott Debts.gsheet'\n",
      "'Elliott Jones Contract.doc'\n",
      "'Elliott Jones JP106 HW 9.8.2017 workbook pgs 45-48.docx'\n",
      "'Elliott Jones PHYS 211 lab 1_graded.docx'\n",
      "'Elliott Larp notes.gdoc'\n",
      "'Emergency Contact Form.doc.gdoc'\n",
      " Energy_and_Water_Data_Disclosure_for_Local_Law_84_2017__Data_for_Calendar_Year_2016_.csv\n",
      " Energy_and_Water_Data_Disclosure_for_Local_Law_84_2017__Data_for_Calendar_Year_2016_.gsheet\n",
      " \u001b[01;34mENGL\u001b[0m/\n",
      "'Engl 280 group work.gdoc'\n",
      " Essay.gdoc\n",
      "'Final session rise of the archdevils.gdoc'\n",
      "'final sheet.gdoc'\n",
      "'Fred leopold.gdoc'\n",
      "'Galadrim fall 2019 Session zero topics and players.gdoc'\n",
      "'Galadrim form .gform'\n",
      "'Galadrim Survey.gform'\n",
      "'Gelila Mesfin report.gdoc'\n",
      "'Githrazi old man monk.gdoc'\n",
      " Glasya.gdoc\n",
      "'God rules.gdoc'\n",
      "\u001b[01;34m'Grandad Voice Recordings '\u001b[0m/\n",
      "'Great B.gdoc'\n",
      " grinding.png\n",
      "'Gruug reed.gdoc'\n",
      "'guildmaster character creation rules.gdoc'\n",
      "\u001b[01;34m\"Harold's game Docs\"\u001b[0m/\n",
      "\"Hi ausilio I'm Dad.gdoc\"\n",
      "'high level charachter template.gdoc'\n",
      "'HIST 325 WW II Japan .gdoc'\n",
      "'History 102 exam 2 timeline.gdoc'\n",
      "'HW 5.gsheet'\n",
      "'Ian Copy of Revised Early Neonate.docx.gdoc'\n",
      "'Ileosa Arabasti.gdoc'\n",
      "'Ishaan Chawla report.gdoc'\n",
      "'jack dare.gdoc'\n",
      "'Jin mori.gdoc'\n",
      "'Jones Elliott 201609080004020488.pdf'\n",
      "'Kaiba buff set up 5e.gdoc'\n",
      "'Katalyssa iyis.gdoc'\n",
      " kingsman.gdoc\n",
      "'kupala contract.gdoc'\n",
      "\u001b[01;34m'lab 1'\u001b[0m/\n",
      "\u001b[01;34m'Lab 2 Math 243'\u001b[0m/\n",
      "'lab 4 math 243 ELLIOTT JONES.nb'\n",
      "'LAB 5 math 243 Elliott Jones.nb'\n",
      "'Lab7 - Rotational Motion Data.xlsx'\n",
      "'LAB REPORT 3 ELLIOTT JONES MATH 243.nb'\n",
      "'Lead teacher notes.gdoc'\n",
      "'letter to the unconquered sun.gdoc'\n",
      "'Leylin pathifnder character sheet.gdoc'\n",
      "'Little Fang.gdoc'\n",
      "'Madrid expenses.gsheet'\n",
      "'Maintaining Good Academic Standing 16S.pdf'\n",
      "'more artificer ideas.gdoc'\n",
      "'MP System background.gdoc'\n",
      "'MP system pathfinder Game start notes.gdoc'\n",
      "'Mythic storylines.gdoc'\n",
      "'Neon nights faq.gdoc'\n",
      "'Neon Nights Research.gdoc'\n",
      "'Neon night Wiki changes.gdoc'\n",
      "'New charms.gdoc'\n",
      "'New Orleans by Night.pdf'\n",
      "'New Performance charms for Yuna.gdoc'\n",
      "'NEWS 12 15 18.gdoc'\n",
      "'News 3 23 19.gdoc'\n",
      "'NEWS 6-29 NOT FUCKED UP YOU MORON.docx'\n",
      "'NEWS 6-29 NOT FUCKED UP YOU MORON.gdoc'\n",
      "'News character sheet.gdoc'\n",
      " PathfinderCampaignSettingTheFirstWorldRealmOfTheFeyPFRPGPDF-SingleFile.zip\n",
      "'Pathfinder Wizard 2017 - Leto Zalustra.xlsx'\n",
      "'Pathfinder Wizard 2017 - Leto Zalustra.xlsx.gsheet'\n",
      "'PHYS 169 demo elliott jones.pptx'\n",
      "\u001b[01;34m'PHYS 208 Labs Winter session'\u001b[0m/\n",
      "'Phys 311 project A Elliott Jones.docx'\n",
      "'Phys 434.gdoc'\n",
      "'Player Mp system.gdoc'\n",
      "\"Queen's Forgiveness.gdoc\"\n",
      "'Rack the kid.gdoc'\n",
      "\"Ralph tzcimize ed's game.gdoc\"\n",
      "'Ravnica guildmaster action rules.gdoc'\n",
      "\u001b[01;34m'Ravnica larp rules'\u001b[0m/\n",
      "'Ravnica perliminary characters.gdoc'\n",
      "'Ravnica plot document.gdoc'\n",
      "\u001b[01;34m'Rent 7002'\u001b[0m/\n",
      "'Report  overview .gdoc'\n",
      " ResPrintOut-EmailOW.pdf\n",
      "'Rings of the watchers .gdoc'\n",
      "'Ritz Character sheet.gdoc'\n",
      "'Ritz’s big checklist .gdoc'\n",
      "'Ritz spells .gdoc'\n",
      "'Runelord sorshen.gdoc'\n",
      "'Sage gillig Report.gdoc'\n",
      "\"Sebastian san gupta Tasker Gary's Gam.gdoc\"\n",
      "\u001b[01;34m'Solar 2e character conversions'\u001b[0m/\n",
      "'Solar deliberative.gdoc'\n",
      "'Sun and bloom.gdoc'\n",
      "'Suteki \"silverwing\" Shuyin.gdoc'\n",
      "'Take 2 curriculum notes 2019.gdoc'\n",
      "'Take2 Parent Seminar Invitation 2016.pdf'\n",
      "'Tasker i game 9 attributes.gdoc'\n",
      " \u001b[01;34mtest_dir\u001b[0m/\n",
      "'The black butterfly(awakened burnt saffron).gdoc'\n",
      "'the realm plan.gdoc'\n",
      "'Unlimited blade works.gdoc'\n",
      "'Untitled document (1).gdoc'\n",
      "'Untitled document (2).gdoc'\n",
      "'Untitled document (3).gdoc'\n",
      "'Untitled document (4).gdoc'\n",
      "'Untitled document.gdoc'\n",
      "\u001b[01;34m'Untitled folder'\u001b[0m/\n",
      "'Untitled form.gform'\n",
      "'Untitled presentation.gslides'\n",
      "'Usurpation charms.gdoc'\n",
      "'V1_Day8_Mission_Thinking About You Review_Materials.ppt'\n",
      "'Vacation planning list.doc.gdoc'\n",
      "'Wraith plot plan.gdoc'\n",
      "\"yoh the guide felt's game.gdoc\"\n",
      "'Yosef Unell report.gdoc'\n",
      "'Yuna Kisu, Fatemuse.gdoc'\n"
     ]
    }
   ],
   "source": [
    "ls"
   ]
  },
  {
   "cell_type": "code",
   "execution_count": 14,
   "metadata": {
    "colab": {
     "base_uri": "https://localhost:8080/",
     "height": 34
    },
    "colab_type": "code",
    "id": "-dr8B20XdE_g",
    "outputId": "7066e5ba-d9c1-43db-8041-1d9c3751eab4"
   },
   "outputs": [
    {
     "name": "stdout",
     "output_type": "stream",
     "text": [
      "/content/drive/My Drive/dsps2019\n"
     ]
    }
   ],
   "source": [
    "cd dsps2019/"
   ]
  },
  {
   "cell_type": "code",
   "execution_count": 8,
   "metadata": {
    "colab": {
     "base_uri": "https://localhost:8080/",
     "height": 34
    },
    "colab_type": "code",
    "id": "GHtIU43VeQ76",
    "outputId": "1cb57c2e-3245-41ae-a285-d218f1bd6a54"
   },
   "outputs": [
    {
     "name": "stdout",
     "output_type": "stream",
     "text": [
      "jla_cosmo_v2.tgz\n"
     ]
    }
   ],
   "source": [
    "ls"
   ]
  },
  {
   "cell_type": "code",
   "execution_count": 15,
   "metadata": {
    "colab": {
     "base_uri": "https://localhost:8080/",
     "height": 202
    },
    "colab_type": "code",
    "id": "ABMxsZO2eThB",
    "outputId": "b5b2605b-d0f9-4410-f64e-2f004b0987bd"
   },
   "outputs": [
    {
     "name": "stdout",
     "output_type": "stream",
     "text": [
      "--2019-10-20 21:55:54--  http://supernovae.in2p3.fr/sdss_snls_jla/jla_likelihood_v6.tgz\n",
      "Resolving supernovae.in2p3.fr (supernovae.in2p3.fr)... 134.158.152.153\n",
      "Connecting to supernovae.in2p3.fr (supernovae.in2p3.fr)|134.158.152.153|:80... connected.\n",
      "HTTP request sent, awaiting response... 200 OK\n",
      "Length: 23716633 (23M) [application/x-gzip]\n",
      "Saving to: ‘jla_likelihood_v6.tgz.1’\n",
      "\n",
      "jla_likelihood_v6.t 100%[===================>]  22.62M  30.3MB/s    in 0.7s    \n",
      "\n",
      "2019-10-20 21:55:54 (30.3 MB/s) - ‘jla_likelihood_v6.tgz.1’ saved [23716633/23716633]\n",
      "\n"
     ]
    }
   ],
   "source": [
    "!wget \"http://supernovae.in2p3.fr/sdss_snls_jla/jla_likelihood_v6.tgz\""
   ]
  },
  {
   "cell_type": "code",
   "execution_count": 16,
   "metadata": {
    "colab": {
     "base_uri": "https://localhost:8080/",
     "height": 50
    },
    "colab_type": "code",
    "id": "N8XrmuLnfTK9",
    "outputId": "8a58de9b-c179-42b3-b127-ba59b09c2a0f"
   },
   "outputs": [
    {
     "name": "stdout",
     "output_type": "stream",
     "text": [
      "jla_cosmo_v2.tgz    jla_likelihood_v6.tgz\n",
      "\u001b[0m\u001b[01;34mjla_likelihood_v6\u001b[0m/  jla_likelihood_v6.tgz.1\n"
     ]
    }
   ],
   "source": [
    "ls"
   ]
  },
  {
   "cell_type": "code",
   "execution_count": 19,
   "metadata": {
    "colab": {
     "base_uri": "https://localhost:8080/",
     "height": 437
    },
    "colab_type": "code",
    "id": "6GMiG6qkfU_3",
    "outputId": "47fe5809-15a2-43dc-8534-387d6abbb2d4"
   },
   "outputs": [
    {
     "name": "stdout",
     "output_type": "stream",
     "text": [
      "jla_likelihood_v6/src/ini.o\n",
      "jla_likelihood_v6/src/ini.h\n",
      "jla_likelihood_v6/src/jla.cc\n",
      "jla_likelihood_v6/src/ini.c\n",
      "jla_likelihood_v6/src/jla.o\n",
      "jla_likelihood_v6/src/test.cc\n",
      "jla_likelihood_v6/src/jla.h\n",
      "jla_likelihood_v6/src/test.o\n",
      "jla_likelihood_v6/makefile\n",
      "jla_likelihood_v6/data/jla_v0b_covmatrix.dat\n",
      "jla_likelihood_v6/data/jla_mub_covmatrix.dat\n",
      "jla_likelihood_v6/data/jla_v0_covmatrix.dat\n",
      "jla_likelihood_v6/data/jla_mub.txt~\n",
      "jla_likelihood_v6/data/jla_vab_covmatrix.dat\n",
      "jla_likelihood_v6/data/JLA.paramnames\n",
      "jla_likelihood_v6/data/jla.dataset\n",
      "jla_likelihood_v6/data/jla_va_covmatrix.dat\n",
      "jla_likelihood_v6/data/jla_mub.txt\n",
      "jla_likelihood_v6/data/jla_lcparams.txt\n",
      "jla_likelihood_v6/data/jla_simple.dataset~\n",
      "jla_likelihood_v6/data/jla_vb_covmatrix.dat\n",
      "jla_likelihood_v6/data/jla_v0a_covmatrix.dat\n",
      "jla_likelihood_v6/data/jla_simple.dataset\n",
      "jla_likelihood_v6/ReadMe.txt\n",
      "jla_likelihood_v6/LICENSE.txt\n"
     ]
    }
   ],
   "source": [
    "!tar -xzvf jla_likelihood_v6.tgz"
   ]
  },
  {
   "cell_type": "code",
   "execution_count": 20,
   "metadata": {
    "colab": {
     "base_uri": "https://localhost:8080/",
     "height": 50
    },
    "colab_type": "code",
    "id": "gYCo9W7vffI2",
    "outputId": "d1746da1-8de0-4e45-b128-e9657e4788ca"
   },
   "outputs": [
    {
     "name": "stdout",
     "output_type": "stream",
     "text": [
      "jla_cosmo_v2.tgz    jla_likelihood_v6.tgz\n",
      "\u001b[0m\u001b[01;34mjla_likelihood_v6\u001b[0m/  jla_likelihood_v6.tgz.1\n"
     ]
    }
   ],
   "source": [
    "ls"
   ]
  },
  {
   "cell_type": "code",
   "execution_count": 21,
   "metadata": {
    "colab": {
     "base_uri": "https://localhost:8080/",
     "height": 34
    },
    "colab_type": "code",
    "id": "697KsTJbfpIJ",
    "outputId": "ef336f56-127c-45b8-85e5-70674bfc01ba"
   },
   "outputs": [
    {
     "name": "stdout",
     "output_type": "stream",
     "text": [
      "/content/drive/My Drive/dsps2019/jla_likelihood_v6\n"
     ]
    }
   ],
   "source": [
    "cd \"jla_likelihood_v6\"/"
   ]
  },
  {
   "cell_type": "code",
   "execution_count": 22,
   "metadata": {
    "colab": {
     "base_uri": "https://localhost:8080/",
     "height": 34
    },
    "colab_type": "code",
    "id": "c-iYpxsnGVUZ",
    "outputId": "4bf4c645-c764-4215-ee49-979a032c0c7f"
   },
   "outputs": [
    {
     "name": "stdout",
     "output_type": "stream",
     "text": [
      "\u001b[0m\u001b[01;34mdata\u001b[0m/  LICENSE.txt  makefile  ReadMe.txt  \u001b[01;34msrc\u001b[0m/\n"
     ]
    }
   ],
   "source": [
    "ls"
   ]
  },
  {
   "cell_type": "code",
   "execution_count": 23,
   "metadata": {
    "colab": {
     "base_uri": "https://localhost:8080/",
     "height": 34
    },
    "colab_type": "code",
    "id": "5KobHdgYSZVy",
    "outputId": "8124ab73-d9a0-486a-bebc-ffe396c075e8"
   },
   "outputs": [
    {
     "name": "stdout",
     "output_type": "stream",
     "text": [
      "/content/drive/My Drive/dsps2019/jla_likelihood_v6/data\n"
     ]
    }
   ],
   "source": [
    "cd \"data\""
   ]
  },
  {
   "cell_type": "code",
   "execution_count": 24,
   "metadata": {
    "colab": {
     "base_uri": "https://localhost:8080/",
     "height": 101
    },
    "colab_type": "code",
    "id": "jW59G5ccSbke",
    "outputId": "2bcc35db-3fe6-490d-adb7-42b611e71edf"
   },
   "outputs": [
    {
     "name": "stdout",
     "output_type": "stream",
     "text": [
      "jla.dataset            JLA.paramnames         jla_v0_covmatrix.dat\n",
      "jla_lcparams.txt       jla_simple.dataset     jla_vab_covmatrix.dat\n",
      "jla_mub_covmatrix.dat  jla_simple.dataset~    jla_va_covmatrix.dat\n",
      "jla_mub.txt            jla_v0a_covmatrix.dat  jla_vb_covmatrix.dat\n",
      "jla_mub.txt~           jla_v0b_covmatrix.dat\n"
     ]
    }
   ],
   "source": [
    "ls"
   ]
  },
  {
   "cell_type": "code",
   "execution_count": 31,
   "metadata": {
    "colab": {
     "base_uri": "https://localhost:8080/",
     "height": 370
    },
    "colab_type": "code",
    "id": "StIXjVkbScUA",
    "outputId": "c4ee108a-9357-4f46-f470-d3ae2b7876e7",
    "scrolled": true
   },
   "outputs": [
    {
     "ename": "FileNotFoundError",
     "evalue": "ignored",
     "output_type": "error",
     "traceback": [
      "\u001b[0;31m---------------------------------------------------------------------------\u001b[0m",
      "\u001b[0;31mFileNotFoundError\u001b[0m                         Traceback (most recent call last)",
      "\u001b[0;32m<ipython-input-31-9a39bf29aedc>\u001b[0m in \u001b[0;36m<module>\u001b[0;34m()\u001b[0m\n\u001b[0;32m----> 1\u001b[0;31m \u001b[0mjla\u001b[0m \u001b[0;34m=\u001b[0m \u001b[0mpd\u001b[0m\u001b[0;34m.\u001b[0m\u001b[0mread_csv\u001b[0m\u001b[0;34m(\u001b[0m\u001b[0;34m\"dsps2019/jla_likelihood_v6/data/jla_lcparams.txt\"\u001b[0m\u001b[0;34m,\u001b[0m \u001b[0msep\u001b[0m\u001b[0;34m=\u001b[0m\u001b[0;34m\" \"\u001b[0m\u001b[0;34m)\u001b[0m\u001b[0;34m\u001b[0m\u001b[0;34m\u001b[0m\u001b[0m\n\u001b[0m",
      "\u001b[0;32m/usr/local/lib/python3.6/dist-packages/pandas/io/parsers.py\u001b[0m in \u001b[0;36mparser_f\u001b[0;34m(filepath_or_buffer, sep, delimiter, header, names, index_col, usecols, squeeze, prefix, mangle_dupe_cols, dtype, engine, converters, true_values, false_values, skipinitialspace, skiprows, skipfooter, nrows, na_values, keep_default_na, na_filter, verbose, skip_blank_lines, parse_dates, infer_datetime_format, keep_date_col, date_parser, dayfirst, iterator, chunksize, compression, thousands, decimal, lineterminator, quotechar, quoting, doublequote, escapechar, comment, encoding, dialect, tupleize_cols, error_bad_lines, warn_bad_lines, delim_whitespace, low_memory, memory_map, float_precision)\u001b[0m\n\u001b[1;32m    700\u001b[0m                     skip_blank_lines=skip_blank_lines)\n\u001b[1;32m    701\u001b[0m \u001b[0;34m\u001b[0m\u001b[0m\n\u001b[0;32m--> 702\u001b[0;31m         \u001b[0;32mreturn\u001b[0m \u001b[0m_read\u001b[0m\u001b[0;34m(\u001b[0m\u001b[0mfilepath_or_buffer\u001b[0m\u001b[0;34m,\u001b[0m \u001b[0mkwds\u001b[0m\u001b[0;34m)\u001b[0m\u001b[0;34m\u001b[0m\u001b[0;34m\u001b[0m\u001b[0m\n\u001b[0m\u001b[1;32m    703\u001b[0m \u001b[0;34m\u001b[0m\u001b[0m\n\u001b[1;32m    704\u001b[0m     \u001b[0mparser_f\u001b[0m\u001b[0;34m.\u001b[0m\u001b[0m__name__\u001b[0m \u001b[0;34m=\u001b[0m \u001b[0mname\u001b[0m\u001b[0;34m\u001b[0m\u001b[0;34m\u001b[0m\u001b[0m\n",
      "\u001b[0;32m/usr/local/lib/python3.6/dist-packages/pandas/io/parsers.py\u001b[0m in \u001b[0;36m_read\u001b[0;34m(filepath_or_buffer, kwds)\u001b[0m\n\u001b[1;32m    427\u001b[0m \u001b[0;34m\u001b[0m\u001b[0m\n\u001b[1;32m    428\u001b[0m     \u001b[0;31m# Create the parser.\u001b[0m\u001b[0;34m\u001b[0m\u001b[0;34m\u001b[0m\u001b[0;34m\u001b[0m\u001b[0m\n\u001b[0;32m--> 429\u001b[0;31m     \u001b[0mparser\u001b[0m \u001b[0;34m=\u001b[0m \u001b[0mTextFileReader\u001b[0m\u001b[0;34m(\u001b[0m\u001b[0mfilepath_or_buffer\u001b[0m\u001b[0;34m,\u001b[0m \u001b[0;34m**\u001b[0m\u001b[0mkwds\u001b[0m\u001b[0;34m)\u001b[0m\u001b[0;34m\u001b[0m\u001b[0;34m\u001b[0m\u001b[0m\n\u001b[0m\u001b[1;32m    430\u001b[0m \u001b[0;34m\u001b[0m\u001b[0m\n\u001b[1;32m    431\u001b[0m     \u001b[0;32mif\u001b[0m \u001b[0mchunksize\u001b[0m \u001b[0;32mor\u001b[0m \u001b[0miterator\u001b[0m\u001b[0;34m:\u001b[0m\u001b[0;34m\u001b[0m\u001b[0;34m\u001b[0m\u001b[0m\n",
      "\u001b[0;32m/usr/local/lib/python3.6/dist-packages/pandas/io/parsers.py\u001b[0m in \u001b[0;36m__init__\u001b[0;34m(self, f, engine, **kwds)\u001b[0m\n\u001b[1;32m    893\u001b[0m             \u001b[0mself\u001b[0m\u001b[0;34m.\u001b[0m\u001b[0moptions\u001b[0m\u001b[0;34m[\u001b[0m\u001b[0;34m'has_index_names'\u001b[0m\u001b[0;34m]\u001b[0m \u001b[0;34m=\u001b[0m \u001b[0mkwds\u001b[0m\u001b[0;34m[\u001b[0m\u001b[0;34m'has_index_names'\u001b[0m\u001b[0;34m]\u001b[0m\u001b[0;34m\u001b[0m\u001b[0;34m\u001b[0m\u001b[0m\n\u001b[1;32m    894\u001b[0m \u001b[0;34m\u001b[0m\u001b[0m\n\u001b[0;32m--> 895\u001b[0;31m         \u001b[0mself\u001b[0m\u001b[0;34m.\u001b[0m\u001b[0m_make_engine\u001b[0m\u001b[0;34m(\u001b[0m\u001b[0mself\u001b[0m\u001b[0;34m.\u001b[0m\u001b[0mengine\u001b[0m\u001b[0;34m)\u001b[0m\u001b[0;34m\u001b[0m\u001b[0;34m\u001b[0m\u001b[0m\n\u001b[0m\u001b[1;32m    896\u001b[0m \u001b[0;34m\u001b[0m\u001b[0m\n\u001b[1;32m    897\u001b[0m     \u001b[0;32mdef\u001b[0m \u001b[0mclose\u001b[0m\u001b[0;34m(\u001b[0m\u001b[0mself\u001b[0m\u001b[0;34m)\u001b[0m\u001b[0;34m:\u001b[0m\u001b[0;34m\u001b[0m\u001b[0;34m\u001b[0m\u001b[0m\n",
      "\u001b[0;32m/usr/local/lib/python3.6/dist-packages/pandas/io/parsers.py\u001b[0m in \u001b[0;36m_make_engine\u001b[0;34m(self, engine)\u001b[0m\n\u001b[1;32m   1120\u001b[0m     \u001b[0;32mdef\u001b[0m \u001b[0m_make_engine\u001b[0m\u001b[0;34m(\u001b[0m\u001b[0mself\u001b[0m\u001b[0;34m,\u001b[0m \u001b[0mengine\u001b[0m\u001b[0;34m=\u001b[0m\u001b[0;34m'c'\u001b[0m\u001b[0;34m)\u001b[0m\u001b[0;34m:\u001b[0m\u001b[0;34m\u001b[0m\u001b[0;34m\u001b[0m\u001b[0m\n\u001b[1;32m   1121\u001b[0m         \u001b[0;32mif\u001b[0m \u001b[0mengine\u001b[0m \u001b[0;34m==\u001b[0m \u001b[0;34m'c'\u001b[0m\u001b[0;34m:\u001b[0m\u001b[0;34m\u001b[0m\u001b[0;34m\u001b[0m\u001b[0m\n\u001b[0;32m-> 1122\u001b[0;31m             \u001b[0mself\u001b[0m\u001b[0;34m.\u001b[0m\u001b[0m_engine\u001b[0m \u001b[0;34m=\u001b[0m \u001b[0mCParserWrapper\u001b[0m\u001b[0;34m(\u001b[0m\u001b[0mself\u001b[0m\u001b[0;34m.\u001b[0m\u001b[0mf\u001b[0m\u001b[0;34m,\u001b[0m \u001b[0;34m**\u001b[0m\u001b[0mself\u001b[0m\u001b[0;34m.\u001b[0m\u001b[0moptions\u001b[0m\u001b[0;34m)\u001b[0m\u001b[0;34m\u001b[0m\u001b[0;34m\u001b[0m\u001b[0m\n\u001b[0m\u001b[1;32m   1123\u001b[0m         \u001b[0;32melse\u001b[0m\u001b[0;34m:\u001b[0m\u001b[0;34m\u001b[0m\u001b[0;34m\u001b[0m\u001b[0m\n\u001b[1;32m   1124\u001b[0m             \u001b[0;32mif\u001b[0m \u001b[0mengine\u001b[0m \u001b[0;34m==\u001b[0m \u001b[0;34m'python'\u001b[0m\u001b[0;34m:\u001b[0m\u001b[0;34m\u001b[0m\u001b[0;34m\u001b[0m\u001b[0m\n",
      "\u001b[0;32m/usr/local/lib/python3.6/dist-packages/pandas/io/parsers.py\u001b[0m in \u001b[0;36m__init__\u001b[0;34m(self, src, **kwds)\u001b[0m\n\u001b[1;32m   1851\u001b[0m         \u001b[0mkwds\u001b[0m\u001b[0;34m[\u001b[0m\u001b[0;34m'usecols'\u001b[0m\u001b[0;34m]\u001b[0m \u001b[0;34m=\u001b[0m \u001b[0mself\u001b[0m\u001b[0;34m.\u001b[0m\u001b[0musecols\u001b[0m\u001b[0;34m\u001b[0m\u001b[0;34m\u001b[0m\u001b[0m\n\u001b[1;32m   1852\u001b[0m \u001b[0;34m\u001b[0m\u001b[0m\n\u001b[0;32m-> 1853\u001b[0;31m         \u001b[0mself\u001b[0m\u001b[0;34m.\u001b[0m\u001b[0m_reader\u001b[0m \u001b[0;34m=\u001b[0m \u001b[0mparsers\u001b[0m\u001b[0;34m.\u001b[0m\u001b[0mTextReader\u001b[0m\u001b[0;34m(\u001b[0m\u001b[0msrc\u001b[0m\u001b[0;34m,\u001b[0m \u001b[0;34m**\u001b[0m\u001b[0mkwds\u001b[0m\u001b[0;34m)\u001b[0m\u001b[0;34m\u001b[0m\u001b[0;34m\u001b[0m\u001b[0m\n\u001b[0m\u001b[1;32m   1854\u001b[0m         \u001b[0mself\u001b[0m\u001b[0;34m.\u001b[0m\u001b[0munnamed_cols\u001b[0m \u001b[0;34m=\u001b[0m \u001b[0mself\u001b[0m\u001b[0;34m.\u001b[0m\u001b[0m_reader\u001b[0m\u001b[0;34m.\u001b[0m\u001b[0munnamed_cols\u001b[0m\u001b[0;34m\u001b[0m\u001b[0;34m\u001b[0m\u001b[0m\n\u001b[1;32m   1855\u001b[0m \u001b[0;34m\u001b[0m\u001b[0m\n",
      "\u001b[0;32mpandas/_libs/parsers.pyx\u001b[0m in \u001b[0;36mpandas._libs.parsers.TextReader.__cinit__\u001b[0;34m()\u001b[0m\n",
      "\u001b[0;32mpandas/_libs/parsers.pyx\u001b[0m in \u001b[0;36mpandas._libs.parsers.TextReader._setup_parser_source\u001b[0;34m()\u001b[0m\n",
      "\u001b[0;31mFileNotFoundError\u001b[0m: [Errno 2] File b'dsps2019/jla_likelihood_v6/data/jla_lcparams.txt' does not exist: b'dsps2019/jla_likelihood_v6/data/jla_lcparams.txt'"
     ]
    }
   ],
   "source": [
    "jla = pd.read_csv(\"dsps2019/jla_likelihood_v6/data/jla_lcparams.txt\", sep=\" \")"
   ]
  },
  {
   "cell_type": "markdown",
   "metadata": {},
   "source": [
    "<span style=\"color:red\">**-90 pts: missing the rest of the homework, if you feel trouble about the content of the class, please talk to the professor, she may give you change to redo this homework**</span>"
   ]
  },
  {
   "cell_type": "code",
   "execution_count": 0,
   "metadata": {
    "colab": {},
    "colab_type": "code",
    "id": "qOmXAoFASpBs"
   },
   "outputs": [],
   "source": []
  }
 ],
 "metadata": {
  "colab": {
   "include_colab_link": true,
   "name": "HW6.ipynb",
   "provenance": []
  },
  "kernelspec": {
   "display_name": "Python 3",
   "language": "python",
   "name": "python3"
  },
  "language_info": {
   "codemirror_mode": {
    "name": "ipython",
    "version": 3
   },
   "file_extension": ".py",
   "mimetype": "text/x-python",
   "name": "python",
   "nbconvert_exporter": "python",
   "pygments_lexer": "ipython3",
   "version": "3.6.8"
  }
 },
 "nbformat": 4,
 "nbformat_minor": 1
}
